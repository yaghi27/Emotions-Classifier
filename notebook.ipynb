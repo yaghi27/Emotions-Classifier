{
 "cells": [
  {
   "cell_type": "code",
   "execution_count": 1,
   "metadata": {},
   "outputs": [
    {
     "name": "stderr",
     "output_type": "stream",
     "text": [
      "[nltk_data] Downloading package wordnet to /home/s5724039/nltk_data...\n",
      "[nltk_data]   Package wordnet is already up-to-date!\n",
      "[nltk_data] Downloading package omw-1.4 to /home/s5724039/nltk_data...\n",
      "[nltk_data]   Package omw-1.4 is already up-to-date!\n"
     ]
    }
   ],
   "source": [
    "import pandas as pd\n",
    "from EmotionClassifierModel import EmotionClassifierModel\n",
    "from EmotionsDataLoader import EmotionsDataLoader\n",
    "from ModelHandler import ModelHandler"
   ]
  },
  {
   "cell_type": "markdown",
   "metadata": {},
   "source": [
    "### Extract and prepare data from CSV file"
   ]
  },
  {
   "cell_type": "code",
   "execution_count": 2,
   "metadata": {},
   "outputs": [],
   "source": [
    "df = pd.read_csv(\"Emotion-Dataset.csv\")\n",
    "df.columns = df.columns.str.strip()\n",
    "\n",
    "# Remove duplicate Emotions entries and empty columns\n",
    "df = df.drop_duplicates(subset=[\"Text\"])\n",
    "df = df.dropna(subset=[\"Text\", \"Emotion\"])\n",
    "\n",
    "# Extract the cleaned data\n",
    "texts = df['Text'].tolist()\n",
    "labels = df['Emotion'].tolist()"
   ]
  },
  {
   "cell_type": "markdown",
   "metadata": {},
   "source": [
    "### Preprocess Data, create model, train and test"
   ]
  },
  {
   "cell_type": "code",
   "execution_count": 4,
   "metadata": {},
   "outputs": [
    {
     "name": "stderr",
     "output_type": "stream",
     "text": [
      "/transfer/FakeNewsDetector2/EmotionsDataLoader.py:45: UserWarning: To copy construct from a tensor, it is recommended to use sourceTensor.clone().detach() or sourceTensor.clone().detach().requires_grad_(True), rather than torch.tensor(sourceTensor).\n",
      "  train_data = TensorDataset(torch.tensor(X_train, dtype=torch.long), torch.tensor(y_train, dtype=torch.long))\n",
      "/transfer/FakeNewsDetector2/EmotionsDataLoader.py:46: UserWarning: To copy construct from a tensor, it is recommended to use sourceTensor.clone().detach() or sourceTensor.clone().detach().requires_grad_(True), rather than torch.tensor(sourceTensor).\n",
      "  test_data = TensorDataset(torch.tensor(X_test, dtype=torch.long), torch.tensor(y_test, dtype=torch.long))\n",
      "/home/s5724039/.pyenv/versions/anaconda3-2024.06-1/lib/python3.12/site-packages/torch/nn/modules/transformer.py:379: UserWarning: enable_nested_tensor is True, but self.use_nested_tensor is False because encoder_layer.self_attn.batch_first was not True(use batch_first for better inference performance)\n",
      "  warnings.warn(\n",
      "/home/s5724039/.pyenv/versions/anaconda3-2024.06-1/lib/python3.12/site-packages/torch/optim/lr_scheduler.py:62: UserWarning: The verbose parameter is deprecated. Please use get_last_lr() to access the learning rate.\n",
      "  warnings.warn(\n"
     ]
    },
    {
     "name": "stdout",
     "output_type": "stream",
     "text": [
      "Epoch [1/60], Accuracy: 29.11 %, Loss: 1.5123, LR: 0.001500\n",
      "Epoch [5/60], Accuracy: 31.91 %, Loss: 1.4956, LR: 0.001500\n",
      "Epoch [10/60], Accuracy: 45.32 %, Loss: 1.2970, LR: 0.001500\n",
      "Epoch [15/60], Accuracy: 56.65 %, Loss: 1.1007, LR: 0.001500\n",
      "Epoch [20/60], Accuracy: 66.74 %, Loss: 0.9309, LR: 0.001500\n",
      "Epoch [25/60], Accuracy: 73.05 %, Loss: 0.8027, LR: 0.001500\n",
      "Epoch [30/60], Accuracy: 74.92 %, Loss: 0.6856, LR: 0.000750\n",
      "Epoch [35/60], Accuracy: 76.40 %, Loss: 0.6461, LR: 0.000375\n",
      "Epoch [40/60], Accuracy: 76.96 %, Loss: 0.6342, LR: 0.000188\n",
      "Epoch [45/60], Accuracy: 77.17 %, Loss: 0.6284, LR: 0.000188\n",
      "Epoch [50/60], Accuracy: 77.37 %, Loss: 0.6231, LR: 0.000094\n",
      "Epoch [55/60], Accuracy: 77.52 %, Loss: 0.6201, LR: 0.000047\n",
      "Epoch [60/60], Accuracy: 77.54 %, Loss: 0.6191, LR: 0.000023\n",
      "Test Accuracy: 79.23 %\n",
      "\n",
      "Classification Report:\n",
      "\n",
      "              precision    recall  f1-score   support\n",
      "\n",
      "           0       0.92      0.74      0.82      7554\n",
      "           1       0.92      0.71      0.80      6004\n",
      "           2       0.69      0.90      0.78     10070\n",
      "           3       0.79      0.79      0.79      9982\n",
      "           4       0.82      0.69      0.75      1923\n",
      "           5       0.00      0.00      0.00        26\n",
      "\n",
      "    accuracy                           0.79     35559\n",
      "   macro avg       0.69      0.64      0.66     35559\n",
      "weighted avg       0.81      0.79      0.79     35559\n",
      "\n"
     ]
    },
    {
     "name": "stderr",
     "output_type": "stream",
     "text": [
      "/home/s5724039/.pyenv/versions/anaconda3-2024.06-1/lib/python3.12/site-packages/sklearn/metrics/_classification.py:1509: UndefinedMetricWarning: Precision is ill-defined and being set to 0.0 in labels with no predicted samples. Use `zero_division` parameter to control this behavior.\n",
      "  _warn_prf(average, modifier, f\"{metric.capitalize()} is\", len(result))\n",
      "/home/s5724039/.pyenv/versions/anaconda3-2024.06-1/lib/python3.12/site-packages/sklearn/metrics/_classification.py:1509: UndefinedMetricWarning: Precision is ill-defined and being set to 0.0 in labels with no predicted samples. Use `zero_division` parameter to control this behavior.\n",
      "  _warn_prf(average, modifier, f\"{metric.capitalize()} is\", len(result))\n",
      "/home/s5724039/.pyenv/versions/anaconda3-2024.06-1/lib/python3.12/site-packages/sklearn/metrics/_classification.py:1509: UndefinedMetricWarning: Precision is ill-defined and being set to 0.0 in labels with no predicted samples. Use `zero_division` parameter to control this behavior.\n",
      "  _warn_prf(average, modifier, f\"{metric.capitalize()} is\", len(result))\n"
     ]
    }
   ],
   "source": [
    "data_loader = EmotionsDataLoader(batch_size=32)\n",
    "train_loader, test_loader, vocab_size, vocab = data_loader.preprocess(texts, labels) #vocab size can only got from dataset and passed to model report that dont forget\n",
    "\n",
    "model = EmotionClassifierModel(\n",
    "    vocab_size=vocab_size,\n",
    "    embed_dim=200,\n",
    "    num_heads=4,          # for self-attention\n",
    "    hidden_dim=512,       # dimension of the feed-forward network\n",
    "    num_layers=2,         # number of Transformer encoder layers\n",
    "    output_dim=len(df['Emotion'].unique()),\n",
    "    dropout=0.3,\n",
    "    pad_idx=0, \n",
    "    max_length=5000       \n",
    ")\n",
    "\n",
    "handler = ModelHandler(model, train_loader, test_loader, learning_rate = 0.0015)\n",
    "handler.train(epochs = 60)\n",
    "handler.test()"
   ]
  },
  {
   "cell_type": "code",
   "execution_count": 8,
   "metadata": {},
   "outputs": [
    {
     "data": {
      "text/plain": [
       "53039"
      ]
     },
     "execution_count": 8,
     "metadata": {},
     "output_type": "execute_result"
    }
   ],
   "source": [
    "vocab_size"
   ]
  },
  {
   "cell_type": "code",
   "execution_count": null,
   "metadata": {},
   "outputs": [],
   "source": []
  }
 ],
 "metadata": {
  "kernelspec": {
   "display_name": "base",
   "language": "python",
   "name": "python3"
  },
  "language_info": {
   "codemirror_mode": {
    "name": "ipython",
    "version": 3
   },
   "file_extension": ".py",
   "mimetype": "text/x-python",
   "name": "python",
   "nbconvert_exporter": "python",
   "pygments_lexer": "ipython3",
   "version": "3.12.4"
  }
 },
 "nbformat": 4,
 "nbformat_minor": 2
}
